{
 "cells": [
  {
   "cell_type": "code",
   "execution_count": null,
   "id": "1096c351",
   "metadata": {},
   "outputs": [
    {
     "name": "stdout",
     "output_type": "stream",
     "text": [
      "MAE of predicted sale price based some numerical features:\n",
      "33.415981735159825\n",
      "MAE of validation data using train_test_split function: \n",
      "27907.090410958903\n",
      "MAE for this many leaf nodes: \n",
      "32224.27348561814\n",
      "MAE for this many leaf nodes: \n",
      "24184.298474948064\n",
      "MAE for this many leaf nodes: \n",
      "28419.959816636492\n",
      "MAE for this many leaf nodes: \n",
      "28590.523287671233\n"
     ]
    }
   ],
   "source": [
    "import pandas as pd\n",
    "from sklearn.tree import DecisionTreeRegressor\n",
    "'''\n",
    "Remember answer is in form ID, predicted price!!!   \n",
    "'''\n",
    "\n",
    "#importing the data\n",
    "iowa_file_train = 'train.csv'\n",
    "iowa_train_data = pd.read_csv(iowa_file_train)\n",
    "iowa_file_test = 'test.csv' \n",
    "iowa_test_data = pd.read_csv(iowa_file_test)\n",
    "\n",
    "\n",
    "#This code predicts the sale price of the first 5 properties based on certain features.\n",
    "\n",
    "y = iowa_train_data.SalePrice  #column of SalePrice\n",
    "#print(iowa_data.columns)\n",
    "iowa_features = ['MSSubClass','LotArea','OverallQual', 'OverallCond', 'YearBuilt', 'YearRemodAdd','TotalBsmtSF','1stFlrSF']\n",
    "X = iowa_train_data[iowa_features]\n",
    "iowa_model = DecisionTreeRegressor(random_state =1)\n",
    "iowa_model.fit(X,y)\n",
    "predicted_home_prices = iowa_model.predict(X)\n",
    "print('MAE of predicted sale price based some numerical features:')\n",
    "#this prediction has a low MAE because DecisionTreeRegressor overfits and fits perfectly to the data\n",
    "\n",
    "\n",
    "#calculating mean absolute error for for data based of features.\n",
    "from sklearn.metrics import mean_absolute_error\n",
    "print(mean_absolute_error(y,predicted_home_prices))\n",
    "\n",
    "#split training data into training and validation in order to test our model is accurate for new data.\n",
    "from sklearn.model_selection import train_test_split\n",
    "train_X,val_X,train_y,val_y = train_test_split(X,y,random_state=0)\n",
    "iowa_model = DecisionTreeRegressor()\n",
    "iowa_model.fit(train_X,train_y) \n",
    "val_predictions = iowa_model.predict(val_X)\n",
    "print('MAE of validation data using train_test_split function: ')\n",
    "print(mean_absolute_error(val_y,val_predictions))\n",
    "#this error is very large because decision tree regressor OVERFITS so it is not an accurate model for new unseen data. \n",
    "\n",
    "#define get_mae a function using max_leaf_nodes\n",
    "def get_mae(max_leaf_nodes,train_X,val_X,train_y,val_y):\n",
    "    model = DecisionTreeRegressor(max_leaf_nodes=max_leaf_nodes,random_state = 0)\n",
    "    model.fit(train_X,train_y)\n",
    "    preds_val = model.predict(val_X)\n",
    "    mae = mean_absolute_error(val_y,preds_val)\n",
    "    return(mae)\n",
    "for max_leaf_nodes in [5,50,500,5000]:\n",
    "    my_mae = get_mae(max_leaf_nodes,train_X,val_X,train_y,val_y)\n",
    "    \n"
   ]
  }
 ],
 "metadata": {
  "kernelspec": {
   "display_name": "Python 3",
   "language": "python",
   "name": "python3"
  },
  "language_info": {
   "codemirror_mode": {
    "name": "ipython",
    "version": 3
   },
   "file_extension": ".py",
   "mimetype": "text/x-python",
   "name": "python",
   "nbconvert_exporter": "python",
   "pygments_lexer": "ipython3",
   "version": "3.12.1"
  }
 },
 "nbformat": 4,
 "nbformat_minor": 5
}
