{
 "cells": [
  {
   "cell_type": "code",
   "execution_count": null,
   "id": "1096c351",
   "metadata": {},
   "outputs": [
    {
     "name": "stdout",
     "output_type": "stream",
     "text": [
      "predicted sale price based some numerical features:\n",
      "33.415981735159825\n"
     ]
    }
   ],
   "source": [
    "import pandas as pd\n",
    "from sklearn.tree import DecisionTreeRegressor\n",
    "from sklearn.metrics import mean_absolute_error\n",
    "#importing the data\n",
    "iowa_file_path = 'train.csv'\n",
    "iowa_data = pd.read_csv(iowa_file_path)\n",
    "\n",
    "\n",
    "#This code predicts the sale price of the first 5 properties based on certain features.\n",
    "\n",
    "y = iowa_data.SalePrice  #column of SalePrice\n",
    "#print(iowa_data.columns)\n",
    "iowa_features = ['MSSubClass','LotArea','OverallQual', 'OverallCond', 'YearBuilt', 'YearRemodAdd','TotalBsmtSF','1stFlrSF']\n",
    "X = iowa_data[iowa_features]\n",
    "iowa_model = DecisionTreeRegressor(random_state =1)\n",
    "iowa_model.fit(X,y)\n",
    "predicted_home_prices = iowa_model.predict(X)\n",
    "print('predicted sale price based some numerical features:')\n",
    "\n",
    "\n",
    "#calculating mean absolute error for for data based of features.\n",
    "print(mean_absolute_error(y,predicted_home_prices))"
   ]
  }
 ],
 "metadata": {
  "kernelspec": {
   "display_name": "Python 3",
   "language": "python",
   "name": "python3"
  },
  "language_info": {
   "codemirror_mode": {
    "name": "ipython",
    "version": 3
   },
   "file_extension": ".py",
   "mimetype": "text/x-python",
   "name": "python",
   "nbconvert_exporter": "python",
   "pygments_lexer": "ipython3",
   "version": "3.12.1"
  }
 },
 "nbformat": 4,
 "nbformat_minor": 5
}
